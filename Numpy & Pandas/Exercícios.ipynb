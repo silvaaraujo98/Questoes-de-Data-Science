{
 "cells": [
  {
   "cell_type": "code",
   "execution_count": 2,
   "id": "dca759c1",
   "metadata": {},
   "outputs": [],
   "source": [
    "import numpy as np"
   ]
  },
  {
   "cell_type": "markdown",
   "id": "1bbbbc20",
   "metadata": {},
   "source": [
    " 1. Create a random vector of size 30 and find the mean value"
   ]
  },
  {
   "cell_type": "code",
   "execution_count": 9,
   "id": "42d451c4",
   "metadata": {},
   "outputs": [
    {
     "data": {
      "text/plain": [
       "0.44459557886446266"
      ]
     },
     "execution_count": 9,
     "metadata": {},
     "output_type": "execute_result"
    }
   ],
   "source": [
    "v =np.random.rand(1,30)\n",
    "v.mean()"
   ]
  },
  {
   "cell_type": "markdown",
   "id": "bebbb3a4",
   "metadata": {},
   "source": [
    "2. Create a 5x5 matrix with values 1,2,3,4 just below the diagonal "
   ]
  },
  {
   "cell_type": "code",
   "execution_count": 79,
   "id": "ea9be51b",
   "metadata": {},
   "outputs": [],
   "source": [
    "v = np.arange(1,11,0.4)\n",
    "v=v.reshape(5,5)\n",
    "numero_linha = v.shape[0]\n",
    "numero_col = v.shape[1]"
   ]
  },
  {
   "cell_type": "code",
   "execution_count": 80,
   "id": "57151ab5",
   "metadata": {},
   "outputs": [
    {
     "data": {
      "text/plain": [
       "array([[ 1. ,  1.4,  1.8,  2.2,  2.6],\n",
       "       [ 4. ,  3.4,  3.8,  4.2,  4.6],\n",
       "       [ 4. ,  4. ,  5.8,  6.2,  6.6],\n",
       "       [ 2. ,  2. ,  2. ,  8.2,  8.6],\n",
       "       [ 1. ,  1. ,  1. ,  4. , 10.6]])"
      ]
     },
     "execution_count": 80,
     "metadata": {},
     "output_type": "execute_result"
    }
   ],
   "source": [
    "for i in range(numero_linha):\n",
    "    for j in range(numero_col):\n",
    "        if i>j:\n",
    "            v[i][j] = np.random.randint(1,5)\n",
    "v"
   ]
  },
  {
   "cell_type": "markdown",
   "id": "d2bd7ce3",
   "metadata": {},
   "source": [
    "3. How to find common values between two arrays?"
   ]
  },
  {
   "cell_type": "code",
   "execution_count": null,
   "id": "40db3a35",
   "metadata": {},
   "outputs": [],
   "source": []
  },
  {
   "cell_type": "markdown",
   "id": "9b15c858",
   "metadata": {},
   "source": [
    "4. Given a 1D array, negate all elements which are between 3 and 8, in place."
   ]
  },
  {
   "cell_type": "code",
   "execution_count": 58,
   "id": "9fea9be1",
   "metadata": {},
   "outputs": [
    {
     "data": {
      "text/plain": [
       "array([6, 5, 5, 5, 5, 5, 7])"
      ]
     },
     "execution_count": 58,
     "metadata": {},
     "output_type": "execute_result"
    }
   ],
   "source": [
    "v =np.random.randint(1,10,10)\n",
    "mask = (v>3) & (v<8) #Não podemos esquecer dos parêntesis para criar a indexação booleana\n",
    "v[mask]"
   ]
  },
  {
   "cell_type": "markdown",
   "id": "da136921",
   "metadata": {},
   "source": [
    "5. Multiply a 5x3 matrix by a 3x2 matrix (real matrix product)"
   ]
  },
  {
   "cell_type": "code",
   "execution_count": null,
   "id": "2a8d7a6c",
   "metadata": {},
   "outputs": [],
   "source": []
  },
  {
   "cell_type": "markdown",
   "id": "5d2a3847",
   "metadata": {},
   "source": [
    "6. Create a 5x5 matrix with row values ranging from 0 to 4"
   ]
  },
  {
   "cell_type": "code",
   "execution_count": 13,
   "id": "ce951edc",
   "metadata": {},
   "outputs": [
    {
     "data": {
      "text/plain": [
       "array([[0.  , 0.16, 0.32, 0.48, 0.64],\n",
       "       [0.8 , 0.96, 1.12, 1.28, 1.44],\n",
       "       [1.6 , 1.76, 1.92, 2.08, 2.24],\n",
       "       [2.4 , 2.56, 2.72, 2.88, 3.04],\n",
       "       [3.2 , 3.36, 3.52, 3.68, 3.84]])"
      ]
     },
     "execution_count": 13,
     "metadata": {},
     "output_type": "execute_result"
    }
   ],
   "source": [
    "np.arange(0,4,0.16).reshape((5,5))"
   ]
  },
  {
   "cell_type": "code",
   "execution_count": null,
   "id": "a5f19ff7",
   "metadata": {},
   "outputs": [],
   "source": []
  },
  {
   "cell_type": "markdown",
   "id": "06ee409c",
   "metadata": {},
   "source": [
    "7. Create a vector of size 10 with values ranging from 0 to 1, both excluded"
   ]
  },
  {
   "cell_type": "code",
   "execution_count": 19,
   "id": "c46d9732",
   "metadata": {},
   "outputs": [
    {
     "data": {
      "text/plain": [
       "array([0.1 , 0.19, 0.28, 0.37, 0.46, 0.55, 0.64, 0.73, 0.82, 0.91])"
      ]
     },
     "execution_count": 19,
     "metadata": {},
     "output_type": "execute_result"
    }
   ],
   "source": [
    "qtde_nume = (1-0.1)/10\n",
    "\n",
    "np.arange(0.1,1,qtde_nume)"
   ]
  },
  {
   "cell_type": "markdown",
   "id": "5152de4e",
   "metadata": {},
   "source": [
    "8. Create random vector of size 10 and replace the maximum value by 0"
   ]
  },
  {
   "cell_type": "code",
   "execution_count": 44,
   "id": "f7c006de",
   "metadata": {},
   "outputs": [
    {
     "data": {
      "text/plain": [
       "array([[2.56972522, 8.9628673 , 0.        , 4.52532574, 9.47428949,\n",
       "        6.37851948, 1.51759851, 5.98588629, 2.49832545, 9.1787749 ]])"
      ]
     },
     "execution_count": 44,
     "metadata": {},
     "output_type": "execute_result"
    }
   ],
   "source": [
    "v =np.random.rand(1,10)\n",
    "v=10*v\n",
    "posicao = np.argmax(v)\n",
    "posicao\n",
    "v[0][posicao] = 0\n",
    "v"
   ]
  },
  {
   "cell_type": "markdown",
   "id": "b3fcb706",
   "metadata": {},
   "source": [
    "9. How to find the closest value (to a given scalar) in a vector?"
   ]
  },
  {
   "cell_type": "code",
   "execution_count": null,
   "id": "7611faca",
   "metadata": {},
   "outputs": [],
   "source": []
  },
  {
   "cell_type": "markdown",
   "id": "3fe59916",
   "metadata": {},
   "source": [
    "10. Given two arrays, X and Y, construct the Cauchy matrix C (Cij =1/(xi - yj))"
   ]
  },
  {
   "cell_type": "code",
   "execution_count": null,
   "id": "0f64634c",
   "metadata": {},
   "outputs": [],
   "source": []
  }
 ],
 "metadata": {
  "kernelspec": {
   "display_name": "Python 3",
   "language": "python",
   "name": "python3"
  },
  "language_info": {
   "codemirror_mode": {
    "name": "ipython",
    "version": 3
   },
   "file_extension": ".py",
   "mimetype": "text/x-python",
   "name": "python",
   "nbconvert_exporter": "python",
   "pygments_lexer": "ipython3",
   "version": "3.8.8"
  }
 },
 "nbformat": 4,
 "nbformat_minor": 5
}
